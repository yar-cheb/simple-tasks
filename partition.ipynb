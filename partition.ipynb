{
 "cells": [
  {
   "cell_type": "code",
   "execution_count": 68,
   "metadata": {},
   "outputs": [
    {
     "name": "stdout",
     "output_type": "stream",
     "text": [
      "8\n",
      "1\n",
      "1\n",
      "7\n",
      "2\n",
      "1\n",
      "6\n",
      "3\n",
      "1\n",
      "5\n",
      "4\n",
      "1\n",
      "7\n",
      "1\n",
      "2\n",
      "6\n",
      "2\n",
      "2\n",
      "5\n",
      "3\n",
      "2\n",
      "6\n",
      "1\n",
      "3\n",
      "5\n",
      "2\n",
      "3\n",
      "4\n",
      "3\n",
      "3\n"
     ]
    }
   ],
   "source": [
    "import numpy as np\n",
    "\n",
    "def printres(res):\n",
    "    for i in res:\n",
    "        #if i<len(res): print(i, end= ' + ')\n",
    "        #else: print(i)\n",
    "        print(i)\n",
    "              \n",
    "def findpartition(n,k,f_min,res):\n",
    "    if k<=1:\n",
    "        res[0]=n\n",
    "        printres(res)\n",
    "    else:\n",
    "        f=f_min\n",
    "        while f*k<n:\n",
    "            res[k-1]=f\n",
    "            findpartition(n-f,k-1,f_min,res)\n",
    "            f+=1\n",
    "            \n",
    "def partit(n,k):\n",
    "    res= np.arange(k)\n",
    "    findpartition(n,k,1,res)\n",
    "    \n",
    "partit(10,3)"
   ]
  },
  {
   "cell_type": "code",
   "execution_count": null,
   "metadata": {},
   "outputs": [],
   "source": []
  }
 ],
 "metadata": {
  "kernelspec": {
   "display_name": "Python 3",
   "language": "python",
   "name": "python3"
  },
  "language_info": {
   "codemirror_mode": {
    "name": "ipython",
    "version": 3
   },
   "file_extension": ".py",
   "mimetype": "text/x-python",
   "name": "python",
   "nbconvert_exporter": "python",
   "pygments_lexer": "ipython3",
   "version": "3.8.5"
  }
 },
 "nbformat": 4,
 "nbformat_minor": 4
}
